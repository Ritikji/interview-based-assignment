{
  "nbformat": 4,
  "nbformat_minor": 0,
  "metadata": {
    "colab": {
      "provenance": []
    },
    "kernelspec": {
      "name": "python3",
      "display_name": "Python 3"
    },
    "language_info": {
      "name": "python"
    }
  },
  "cells": [
    {
      "cell_type": "markdown",
      "source": [
        "**Statistics**"
      ],
      "metadata": {
        "id": "6XS4z_I1meKi"
      }
    },
    {
      "cell_type": "markdown",
      "source": [
        "Q-1. A university wants to understand the relationship between the SAT scores of its\n",
        "applicants and their college GPA. They collect data on 500 students, including their SAT\n",
        "scores (out of 1600) and their college GPA (on a 4.0 scale). They find that the correlation\n",
        "coefficient between SAT scores and college GPA is 0.7. What does this correlation\n",
        "coefficient indicate about the relationship between SAT scores and college GPA?"
      ],
      "metadata": {
        "id": "MYpdA8UWmh1i"
      }
    },
    {
      "cell_type": "code",
      "execution_count": 1,
      "metadata": {
        "colab": {
          "base_uri": "https://localhost:8080/",
          "height": 427
        },
        "id": "-3Xbdbbkmb_6",
        "outputId": "d7dd93e2-190a-4ec6-df47-537e695c6dc7"
      },
      "outputs": [
        {
          "output_type": "display_data",
          "data": {
            "text/plain": [
              "<Figure size 600x400 with 1 Axes>"
            ],
            "image/png": "[encoded data removed]"
          },
          "metadata": {}
        },
        {
          "output_type": "stream",
          "name": "stdout",
          "text": [
            "Correlation Coefficient: 1.0\n"
          ]
        }
      ],
      "source": [
        "import pandas as pd\n",
        "import matplotlib.pyplot as plt\n",
        "import seaborn as sns\n",
        "\n",
        "# Create a DataFrame with SAT scores and college GPA data\n",
        "data = {\n",
        "    'SAT Scores': [1200, 1300, 1400, 1500, 1600],  # Example SAT scores (out of 1600)\n",
        "    'College GPA': [3.2, 3.4, 3.6, 3.8, 4.0]  # Example college GPAs (on a 4.0 scale)\n",
        "}\n",
        "df = pd.DataFrame(data)\n",
        "\n",
        "# Calculate the correlation coefficient\n",
        "correlation_coefficient = df['SAT Scores'].corr(df['College GPA'])\n",
        "\n",
        "# Plotting: Scatter plot\n",
        "plt.figure(figsize=(6, 4))\n",
        "sns.scatterplot(data=df, x='SAT Scores', y='College GPA')\n",
        "plt.title('SAT Scores vs College GPA')\n",
        "plt.xlabel('SAT Scores')\n",
        "plt.ylabel('College GPA')\n",
        "plt.show()\n",
        "\n",
        "# Print the correlation coefficient\n",
        "print(\"Correlation Coefficient:\", correlation_coefficient)\n"
      ]
    },
    {
      "cell_type": "markdown",
      "source": [
        "**Q-2. Consider a dataset containing the heights (in centimeters) of 1000 individuals. The\n",
        "mean height is 170 cm with a standard deviation of 10 cm. The dataset is approximately\n",
        "normally distributed, and its skewness is approximately zero. Based on this information,\n",
        "answer the following questions:\n",
        "a. What percentage of individuals in the dataset have heights between 160 cm\n",
        "and 180 cm?\n",
        "b. If we randomly select 100 individuals from the dataset, what is the probability\n",
        "that their average height is greater than 175 cm?\n",
        "c. Assuming the dataset follows a normal distribution, what is the z-score\n",
        "corresponding to a height of 185 cm?\n",
        "d. We know that 5% of the dataset has heights below a certain value. What is\n",
        "the approximate height corresponding to this threshold?\n",
        "e. Calculate the coefficient of variation (CV) for the dataset.\n",
        "f. Calculate the skewness of the dataset and interpret the result.**"
      ],
      "metadata": {
        "id": "mp6CyG40mnOq"
      }
    },
    {
      "cell_type": "code",
      "source": [
        "import scipy.stats as stats\n",
        "\n",
        "# Given information\n",
        "mean_height = 170  # cm\n",
        "std_dev = 10  # cm\n",
        "sample_size = 100  # for question (b)\n",
        "\n",
        "# a. Percentage of individuals with heights between 160 cm and 180 cm\n",
        "z_160 = (160 - mean_height) / std_dev\n",
        "z_180 = (180 - mean_height) / std_dev\n",
        "percentage_between_160_180 = stats.norm.cdf(z_180) - stats.norm.cdf(z_160)\n",
        "percentage_between_160_180 *= 100  # convert to percentage\n",
        "\n",
        "# b. Probability that the average height of a sample of 100 individuals is greater than 175 cm\n",
        "z_175 = (175 - mean_height) / (std_dev / (sample_size ** 0.5))\n",
        "probability_greater_than_175 = 1 - stats.norm.cdf(z_175)\n",
        "\n",
        "# c. Z-score corresponding to a height of 185 cm\n",
        "z_185 = (185 - mean_height) / std_dev\n",
        "\n",
        "# d. Approximate height corresponding to the threshold where 5% of the dataset has heights below it\n",
        "z_threshold = stats.norm.ppf(0.05)\n",
        "approx_height_threshold = mean_height + (z_threshold * std_dev)\n",
        "\n",
        "# e. Coefficient of Variation (CV)\n",
        "cv = (std_dev / mean_height) * 100\n",
        "\n",
        "# f. Skewness of the dataset\n",
        "skewness = 0  # given that the skewness is approximately zero\n",
        "\n",
        "# Print the results\n",
        "print(\"a. Percentage of individuals with heights between 160 cm and 180 cm:\", percentage_between_160_180)\n",
        "print(\"b. Probability that the average height of a sample of 100 individuals is greater than 175 cm:\", probability_greater_than_175)\n",
        "print(\"c. Z-score corresponding to a height of 185 cm:\", z_185)\n",
        "print(\"d. Approximate height corresponding to the threshold where 5% of the dataset has heights below it:\", approx_height_threshold)\n",
        "print(\"e. Coefficient of Variation (CV) for the dataset:\", cv)\n",
        "print(\"f. Skewness of the dataset:\", skewness)\n"
      ],
      "metadata": {
        "colab": {
          "base_uri": "https://localhost:8080/"
        },
        "id": "CosYwsufmkpb",
        "outputId": "5b4e9950-a532-455a-a144-2050955b5095"
      },
      "execution_count": 2,
      "outputs": [
        {
          "output_type": "stream",
          "name": "stdout",
          "text": [
            "a. Percentage of individuals with heights between 160 cm and 180 cm: 68.26894921370858\n",
            "b. Probability that the average height of a sample of 100 individuals is greater than 175 cm: 2.866515719235352e-07\n",
            "c. Z-score corresponding to a height of 185 cm: 1.5\n",
            "d. Approximate height corresponding to the threshold where 5% of the dataset has heights below it: 153.55146373048527\n",
            "e. Coefficient of Variation (CV) for the dataset: 5.88235294117647\n",
            "f. Skewness of the dataset: 0\n"
          ]
        }
      ]
    },
    {
      "cell_type": "markdown",
      "source": [
        "**Q-3. Consider the ‘Blood Pressure Before’ and ‘Blood Pressure After’ columns from the\n",
        "data and calculate the following\n",
        "\n",
        "https://drive.google.com/file/d/1mCjtYHiX--mMUjicuaP2gH3k-SnFxt8Y/view?usp=share_\n",
        "a. Measure the dispersion in both and interpret the results.\n",
        "b. Calculate mean and 5% confidence interval and plot it in a graph\n",
        "c. Calculate the Mean absolute deviation and Standard deviation and interpret\n",
        "the results.\n",
        "d. Calculate the correlation coefficient and check the significance of it at 1% level\n",
        "of significance.**"
      ],
      "metadata": {
        "id": "Wa_HP2ZzmwS5"
      }
    },
    {
      "cell_type": "code",
      "source": [
        "import pandas as pd\n",
        "import numpy as np\n",
        "import matplotlib.pyplot as plt\n",
        "from scipy import stats\n"
      ],
      "metadata": {
        "id": "nRc3vYlFmr5y"
      },
      "execution_count": 14,
      "outputs": []
    },
    {
      "cell_type": "code",
      "source": [
        "\n",
        "data = pd.read_csv(\"data.csv\")\n",
        "\n"
      ],
      "metadata": {
        "id": "CNzAeBeapu9L"
      },
      "execution_count": 40,
      "outputs": []
    },
    {
      "cell_type": "code",
      "source": [
        "import pandas as pd\n",
        "import scipy.stats as stats\n",
        "import matplotlib.pyplot as plt\n",
        "\n",
        "# Read the data from the provided link\n",
        "df = pd.read_csv(\"data.csv\")\n",
        "\n",
        "# a. Measure the dispersion in both and interpret the results\n",
        "dispersion_before = df['Blood Pressure Before (mmHg)'].var()\n",
        "dispersion_after = df['Blood Pressure After (mmHg)'].var()\n",
        "print(\"Dispersion (Variance) - Blood Pressure Before:\", dispersion_before)\n",
        "print(\"Dispersion (Variance) - Blood Pressure After:\", dispersion_after)\n",
        "\n",
        "# b. Calculate mean and 5% confidence interval and plot it in a graph\n",
        "mean_before = df['Blood Pressure Before (mmHg)'].mean()\n",
        "mean_after = df['Blood Pressure After (mmHg)'].mean()\n",
        "\n",
        "confidence_interval_before = stats.t.interval(0.95, len(df)-1, loc=mean_before, scale=stats.sem(df['Blood Pressure Before (mmHg)']))\n",
        "confidence_interval_after = stats.t.interval(0.95, len(df)-1, loc=mean_after, scale=stats.sem(df['Blood Pressure After (mmHg)']))\n",
        "\n",
        "print(\"Mean - Blood Pressure Before:\", mean_before)\n",
        "print(\"Mean - Blood Pressure After:\", mean_after)\n",
        "print(\"Confidence Interval (95%) - Blood Pressure Before:\", confidence_interval_before)\n",
        "print(\"Confidence Interval (95%) - Blood Pressure After:\", confidence_interval_after)\n",
        "\n",
        "plt.errorbar(x=[1, 2], y=[mean_before, mean_after], yerr=[confidence_interval_before[1]-mean_before, confidence_interval_after[1]-mean_after], fmt='o')\n",
        "plt.xticks([1, 2], ['Before', 'After'])\n",
        "plt.xlabel('Blood Pressure')\n",
        "plt.ylabel('Mean')\n",
        "plt.title('Mean and 95% Confidence Interval')\n",
        "plt.show()\n",
        "\n",
        "# c. Calculate the Mean absolute deviation and Standard deviation and interpret the results\n",
        "mad_before = df['Blood Pressure Before (mmHg)'].mad()\n",
        "mad_after = df['Blood Pressure After (mmHg)'].mad()\n",
        "std_before = df['Blood Pressure Before (mmHg)'].std()\n",
        "std_after = df['Blood Pressure After (mmHg)'].std()\n",
        "\n",
        "print(\"Mean Absolute Deviation (MAD) - Blood Pressure Before:\", mad_before)\n",
        "print(\"Mean Absolute Deviation (MAD) - Blood Pressure After:\", mad_after)\n",
        "print(\"Standard Deviation - Blood Pressure Before:\", std_before)\n",
        "print(\"Standard Deviation - Blood Pressure After:\", std_after)\n",
        "\n",
        "# d. Calculate the correlation coefficient and check the significance of it at 1% level of significance\n",
        "correlation_coefficient, p_value = stats.pearsonr(df['Blood Pressure Before (mmHg)'], df['Blood Pressure After (mmHg)'])\n",
        "print(\"Correlation Coefficient:\", correlation_coefficient)\n",
        "print(\"p-value:\", p_value)\n",
        "if p_value < 0.01:\n",
        "    print(\"The correlation coefficient is significant at the 1% level of significance.\")\n",
        "else:\n",
        "    print(\"The correlation coefficient is not significant at the 1% level of significance.\")\n"
      ],
      "metadata": {
        "colab": {
          "base_uri": "https://localhost:8080/",
          "height": 501
        },
        "id": "mmxdZ6E-zFXu",
        "outputId": "94784696-c458-4266-e7d9-152ffc5a10af"
      },
      "execution_count": 47,
      "outputs": [
        {
          "output_type": "error",
          "ename": "KeyError",
          "evalue": "ignored",
          "traceback": [
            "\u001b[0;31m---------------------------------------------------------------------------\u001b[0m",
            "\u001b[0;31mKeyError\u001b[0m                                  Traceback (most recent call last)",
            "\u001b[0;32m/usr/local/lib/python3.10/dist-packages/pandas/core/indexes/base.py\u001b[0m in \u001b[0;36mget_loc\u001b[0;34m(self, key, method, tolerance)\u001b[0m\n\u001b[1;32m   3801\u001b[0m             \u001b[0;32mtry\u001b[0m\u001b[0;34m:\u001b[0m\u001b[0;34m\u001b[0m\u001b[0;34m\u001b[0m\u001b[0m\n\u001b[0;32m-> 3802\u001b[0;31m                 \u001b[0;32mreturn\u001b[0m \u001b[0mself\u001b[0m\u001b[0;34m.\u001b[0m\u001b[0m_engine\u001b[0m\u001b[0;34m.\u001b[0m\u001b[0mget_loc\u001b[0m\u001b[0;34m(\u001b[0m\u001b[0mcasted_key\u001b[0m\u001b[0;34m)\u001b[0m\u001b[0;34m\u001b[0m\u001b[0;34m\u001b[0m\u001b[0m\n\u001b[0m\u001b[1;32m   3803\u001b[0m             \u001b[0;32mexcept\u001b[0m \u001b[0mKeyError\u001b[0m \u001b[0;32mas\u001b[0m \u001b[0merr\u001b[0m\u001b[0;34m:\u001b[0m\u001b[0;34m\u001b[0m\u001b[0;34m\u001b[0m\u001b[0m\n",
            "\u001b[0;32m/usr/local/lib/python3.10/dist-packages/pandas/_libs/index.pyx\u001b[0m in \u001b[0;36mpandas._libs.index.IndexEngine.get_loc\u001b[0;34m()\u001b[0m\n",
            "\u001b[0;32m/usr/local/lib/python3.10/dist-packages/pandas/_libs/index.pyx\u001b[0m in \u001b[0;36mpandas._libs.index.IndexEngine.get_loc\u001b[0;34m()\u001b[0m\n",
            "\u001b[0;32mpandas/_libs/hashtable_class_helper.pxi\u001b[0m in \u001b[0;36mpandas._libs.hashtable.PyObjectHashTable.get_item\u001b[0;34m()\u001b[0m\n",
            "\u001b[0;32mpandas/_libs/hashtable_class_helper.pxi\u001b[0m in \u001b[0;36mpandas._libs.hashtable.PyObjectHashTable.get_item\u001b[0;34m()\u001b[0m\n",
            "\u001b[0;31mKeyError\u001b[0m: 'Blood Pressure Before (mmHg)'",
            "\nThe above exception was the direct cause of the following exception:\n",
            "\u001b[0;31mKeyError\u001b[0m                                  Traceback (most recent call last)",
            "\u001b[0;32m<ipython-input-47-c599f8e38bf0>\u001b[0m in \u001b[0;36m<cell line: 9>\u001b[0;34m()\u001b[0m\n\u001b[1;32m      7\u001b[0m \u001b[0;34m\u001b[0m\u001b[0m\n\u001b[1;32m      8\u001b[0m \u001b[0;31m# a. Measure the dispersion in both and interpret the results\u001b[0m\u001b[0;34m\u001b[0m\u001b[0;34m\u001b[0m\u001b[0m\n\u001b[0;32m----> 9\u001b[0;31m \u001b[0mdispersion_before\u001b[0m \u001b[0;34m=\u001b[0m \u001b[0mdf\u001b[0m\u001b[0;34m[\u001b[0m\u001b[0;34m'Blood Pressure Before (mmHg)'\u001b[0m\u001b[0;34m]\u001b[0m\u001b[0;34m.\u001b[0m\u001b[0mvar\u001b[0m\u001b[0;34m(\u001b[0m\u001b[0;34m)\u001b[0m\u001b[0;34m\u001b[0m\u001b[0;34m\u001b[0m\u001b[0m\n\u001b[0m\u001b[1;32m     10\u001b[0m \u001b[0mdispersion_after\u001b[0m \u001b[0;34m=\u001b[0m \u001b[0mdf\u001b[0m\u001b[0;34m[\u001b[0m\u001b[0;34m'Blood Pressure After (mmHg)'\u001b[0m\u001b[0;34m]\u001b[0m\u001b[0;34m.\u001b[0m\u001b[0mvar\u001b[0m\u001b[0;34m(\u001b[0m\u001b[0;34m)\u001b[0m\u001b[0;34m\u001b[0m\u001b[0;34m\u001b[0m\u001b[0m\n\u001b[1;32m     11\u001b[0m \u001b[0mprint\u001b[0m\u001b[0;34m(\u001b[0m\u001b[0;34m\"Dispersion (Variance) - Blood Pressure Before:\"\u001b[0m\u001b[0;34m,\u001b[0m \u001b[0mdispersion_before\u001b[0m\u001b[0;34m)\u001b[0m\u001b[0;34m\u001b[0m\u001b[0;34m\u001b[0m\u001b[0m\n",
            "\u001b[0;32m/usr/local/lib/python3.10/dist-packages/pandas/core/frame.py\u001b[0m in \u001b[0;36m__getitem__\u001b[0;34m(self, key)\u001b[0m\n\u001b[1;32m   3805\u001b[0m             \u001b[0;32mif\u001b[0m \u001b[0mself\u001b[0m\u001b[0;34m.\u001b[0m\u001b[0mcolumns\u001b[0m\u001b[0;34m.\u001b[0m\u001b[0mnlevels\u001b[0m \u001b[0;34m>\u001b[0m \u001b[0;36m1\u001b[0m\u001b[0;34m:\u001b[0m\u001b[0;34m\u001b[0m\u001b[0;34m\u001b[0m\u001b[0m\n\u001b[1;32m   3806\u001b[0m                 \u001b[0;32mreturn\u001b[0m \u001b[0mself\u001b[0m\u001b[0;34m.\u001b[0m\u001b[0m_getitem_multilevel\u001b[0m\u001b[0;34m(\u001b[0m\u001b[0mkey\u001b[0m\u001b[0;34m)\u001b[0m\u001b[0;34m\u001b[0m\u001b[0;34m\u001b[0m\u001b[0m\n\u001b[0;32m-> 3807\u001b[0;31m             \u001b[0mindexer\u001b[0m \u001b[0;34m=\u001b[0m \u001b[0mself\u001b[0m\u001b[0;34m.\u001b[0m\u001b[0mcolumns\u001b[0m\u001b[0;34m.\u001b[0m\u001b[0mget_loc\u001b[0m\u001b[0;34m(\u001b[0m\u001b[0mkey\u001b[0m\u001b[0;34m)\u001b[0m\u001b[0;34m\u001b[0m\u001b[0;34m\u001b[0m\u001b[0m\n\u001b[0m\u001b[1;32m   3808\u001b[0m             \u001b[0;32mif\u001b[0m \u001b[0mis_integer\u001b[0m\u001b[0;34m(\u001b[0m\u001b[0mindexer\u001b[0m\u001b[0;34m)\u001b[0m\u001b[0;34m:\u001b[0m\u001b[0;34m\u001b[0m\u001b[0;34m\u001b[0m\u001b[0m\n\u001b[1;32m   3809\u001b[0m                 \u001b[0mindexer\u001b[0m \u001b[0;34m=\u001b[0m \u001b[0;34m[\u001b[0m\u001b[0mindexer\u001b[0m\u001b[0;34m]\u001b[0m\u001b[0;34m\u001b[0m\u001b[0;34m\u001b[0m\u001b[0m\n",
            "\u001b[0;32m/usr/local/lib/python3.10/dist-packages/pandas/core/indexes/base.py\u001b[0m in \u001b[0;36mget_loc\u001b[0;34m(self, key, method, tolerance)\u001b[0m\n\u001b[1;32m   3802\u001b[0m                 \u001b[0;32mreturn\u001b[0m \u001b[0mself\u001b[0m\u001b[0;34m.\u001b[0m\u001b[0m_engine\u001b[0m\u001b[0;34m.\u001b[0m\u001b[0mget_loc\u001b[0m\u001b[0;34m(\u001b[0m\u001b[0mcasted_key\u001b[0m\u001b[0;34m)\u001b[0m\u001b[0;34m\u001b[0m\u001b[0;34m\u001b[0m\u001b[0m\n\u001b[1;32m   3803\u001b[0m             \u001b[0;32mexcept\u001b[0m \u001b[0mKeyError\u001b[0m \u001b[0;32mas\u001b[0m \u001b[0merr\u001b[0m\u001b[0;34m:\u001b[0m\u001b[0;34m\u001b[0m\u001b[0;34m\u001b[0m\u001b[0m\n\u001b[0;32m-> 3804\u001b[0;31m                 \u001b[0;32mraise\u001b[0m \u001b[0mKeyError\u001b[0m\u001b[0;34m(\u001b[0m\u001b[0mkey\u001b[0m\u001b[0;34m)\u001b[0m \u001b[0;32mfrom\u001b[0m \u001b[0merr\u001b[0m\u001b[0;34m\u001b[0m\u001b[0;34m\u001b[0m\u001b[0m\n\u001b[0m\u001b[1;32m   3805\u001b[0m             \u001b[0;32mexcept\u001b[0m \u001b[0mTypeError\u001b[0m\u001b[0;34m:\u001b[0m\u001b[0;34m\u001b[0m\u001b[0;34m\u001b[0m\u001b[0m\n\u001b[1;32m   3806\u001b[0m                 \u001b[0;31m# If we have a listlike key, _check_indexing_error will raise\u001b[0m\u001b[0;34m\u001b[0m\u001b[0;34m\u001b[0m\u001b[0m\n",
            "\u001b[0;31mKeyError\u001b[0m: 'Blood Pressure Before (mmHg)'"
          ]
        }
      ]
    },
    {
      "cell_type": "markdown",
      "source": [
        "**Q-4. A group of 20 friends decide to play a game in which they each write a number\n",
        "between 1 and 20 on a slip of paper and put it into a hat. They then draw one slip of paper\n",
        "at random. What is the probability that the number on the slip of paper is a perfect square\n",
        "(i.e., 1, 4, 9, or 16)?**"
      ],
      "metadata": {
        "id": "yXPltv1Vm1_a"
      }
    },
    {
      "cell_type": "code",
      "source": [
        "total_outcomes = 20  # Total number of possible outcomes\n",
        "perfect_square_outcomes = 4  # Number of favorable outcomes (1, 4, 9, 16)\n",
        "\n",
        "probability = perfect_square_outcomes / total_outcomes\n",
        "\n",
        "# Print the result\n",
        "print(\"Probability of drawing a perfect square number:\", probability)\n"
      ],
      "metadata": {
        "colab": {
          "base_uri": "https://localhost:8080/"
        },
        "id": "EgMrR4Fhm2aL",
        "outputId": "19261ec2-ceee-4c12-bc89-3476348bb454"
      },
      "execution_count": 3,
      "outputs": [
        {
          "output_type": "stream",
          "name": "stdout",
          "text": [
            "Probability of drawing a perfect square number: 0.2\n"
          ]
        }
      ]
    },
    {
      "cell_type": "markdown",
      "source": [
        "**Q-5. A certain city has two taxi companies: Company A has 80% of the taxis and\n",
        "Company B has 20% of the taxis. Company A's taxis have a 95% success rate for picking\n",
        "up passengers on time, while Company B's taxis have a 90% success rate. If a randomly\n",
        "selected taxi is late, what is the probability that it belongs to Company A?**"
      ],
      "metadata": {
        "id": "8qjGcgKWm7Xa"
      }
    },
    {
      "cell_type": "code",
      "source": [
        "import pandas as pd\n",
        "\n",
        "# Load the data from the CSV file\n",
        "data = pd.read_csv(\"data.csv\")\n",
        "\n",
        "# Display the first few rows of the DataFrame\n",
        "print(data.head())\n"
      ],
      "metadata": {
        "colab": {
          "base_uri": "https://localhost:8080/"
        },
        "id": "Pe6-C-fWm4ei",
        "outputId": "126c3a90-1174-4a1e-af87-318c427a9934"
      },
      "execution_count": 4,
      "outputs": [
        {
          "output_type": "stream",
          "name": "stdout",
          "text": [
            "   Patient ID   Blood Pressure Before (mmHg)   Blood Pressure After (mmHg)\n",
            "0           1                            130                           120\n",
            "1           2                            142                           135\n",
            "2           3                            120                           118\n",
            "3           4                            135                           127\n",
            "4           5                            148                           140\n"
          ]
        }
      ]
    },
    {
      "cell_type": "code",
      "source": [
        "P_B_given_A = 1 - 0.95  # Probability that a taxi from Company A is late\n",
        "P_A = 0.8  # Probability that a randomly selected taxi belongs to Company A\n",
        "P_B = (P_B_given_A * P_A) + (0.1 * 0.2)  # Probability that a taxi is late\n",
        "P_A_given_B = (P_B_given_A * P_A) / P_B  # Probability that a randomly selected late taxi belongs to Company A\n",
        "\n",
        "print(\"Probability that a randomly selected late taxi belongs to Company A:\", P_A_given_B)\n"
      ],
      "metadata": {
        "colab": {
          "base_uri": "https://localhost:8080/"
        },
        "id": "Gqg5nowyo19b",
        "outputId": "ee0f2113-43f0-451b-ff2d-990145ce4e10"
      },
      "execution_count": 13,
      "outputs": [
        {
          "output_type": "stream",
          "name": "stdout",
          "text": [
            "Probability that a randomly selected late taxi belongs to Company A: 0.6666666666666669\n"
          ]
        }
      ]
    },
    {
      "cell_type": "code",
      "source": [
        "import numpy as np\n",
        "from scipy.stats import shapiro\n",
        "from numpy.random import randn"
      ],
      "metadata": {
        "id": "4AG7X3SFm_zS"
      },
      "execution_count": 5,
      "outputs": []
    },
    {
      "cell_type": "markdown",
      "source": [
        "Q-6. A pharmaceutical company is developing a drug that is supposed to reduce blood\n",
        "pressure. They conduct a clinical trial with 100 patients and record their blood\n",
        "pressure before and after taking the drug. The company wants to know if the change\n",
        "in blood pressure follows a normal distribution.\n",
        "\n",
        "https://drive.google.com/file/d/1mCjtYHiX--mMUjicuaP2gH3k-SnFxt8Y/view?usp=share_"
      ],
      "metadata": {
        "id": "vc49IPsWnUai"
      }
    },
    {
      "cell_type": "code",
      "source": [
        "import pandas as pd\n",
        "from scipy.stats import shapiro\n",
        "\n",
        "# Read the data from the provided file\n",
        "data = pd.read_csv('data.csv')\n",
        "\n",
        "# Verify the column names\n",
        "print(data.columns)\n",
        "\n",
        "# Extract the change in blood pressure values\n",
        "change_in_bp = data[' Blood Pressure Before (mmHg)']\n",
        "\n",
        "# Perform the Shapiro-Wilk test\n",
        "statistic, p_value = shapiro(change_in_bp)\n",
        "\n",
        "# Print the test statistic and p-value\n",
        "print(\"Shapiro-Wilk Test Statistic:\", statistic)\n",
        "print(\"p-value:\", p_value)\n"
      ],
      "metadata": {
        "colab": {
          "base_uri": "https://localhost:8080/"
        },
        "id": "Bmjyt_l8oAwD",
        "outputId": "73650e99-1ed9-4036-890c-294b17b72997"
      },
      "execution_count": 12,
      "outputs": [
        {
          "output_type": "stream",
          "name": "stdout",
          "text": [
            "Index(['Patient ID', ' Blood Pressure Before (mmHg)',\n",
            "       ' Blood Pressure After (mmHg)'],\n",
            "      dtype='object')\n",
            "Shapiro-Wilk Test Statistic: 0.9573234915733337\n",
            "p-value: 0.002603276167064905\n"
          ]
        }
      ]
    },
    {
      "cell_type": "markdown",
      "source": [
        "Q-7. The equations of two lines of regression, obtained in a correlation analysis\n",
        "between variables X and Y are as follows:\n",
        "\n",
        "and . 2X + 3 − 8 = 0 2Y + X − 5 = 0 The variance of X = 4 Find the\n",
        "a. Variance of Y\n",
        "b. Coefficient of determination of C and Y\n",
        "c. Standard error of estimate of X on Y and of Y on X."
      ],
      "metadata": {
        "id": "2Un5IHlyq8Ar"
      }
    },
    {
      "cell_type": "code",
      "source": [
        "import numpy as np\n",
        "from scipy import stats\n",
        "\n",
        "# Given regression equations\n",
        "eq1_slope = 2\n",
        "eq1_intercept = 3 - 8\n",
        "\n",
        "eq2_slope = 1\n",
        "eq2_intercept = -5\n",
        "\n",
        "# Variance of X\n",
        "variance_x = 4\n",
        "\n",
        "# Variance of Y\n",
        "variance_y = eq2_slope**2 * variance_x\n",
        "\n",
        "# Coefficient of determination (R^2)\n",
        "r_squared = eq2_slope**2 * variance_x / variance_y\n",
        "\n",
        "# Standard error of estimate of X on Y\n",
        "std_error_x_on_y = np.sqrt((1 - r_squared) * variance_x)\n",
        "\n",
        "# Standard error of estimate of Y on X\n",
        "std_error_y_on_x = np.sqrt((1 - r_squared) * variance_y)\n",
        "\n",
        "print(\"Variance of Y:\", variance_y)\n",
        "print(\"Coefficient of determination (R^2) of X and Y:\", r_squared)\n",
        "print(\"Standard error of estimate of X on Y:\", std_error_x_on_y)\n",
        "print(\"Standard error of estimate of Y on X:\", std_error_y_on_x)\n"
      ],
      "metadata": {
        "colab": {
          "base_uri": "https://localhost:8080/"
        },
        "id": "7zqxJgoisdnT",
        "outputId": "3ee587ea-f251-4c3e-ed4d-4a5bd5eb2fe5"
      },
      "execution_count": 24,
      "outputs": [
        {
          "output_type": "stream",
          "name": "stdout",
          "text": [
            "Variance of Y: 4\n",
            "Coefficient of determination (R^2) of X and Y: 1.0\n",
            "Standard error of estimate of X on Y: 0.0\n",
            "Standard error of estimate of Y on X: 0.0\n"
          ]
        }
      ]
    },
    {
      "cell_type": "markdown",
      "source": [
        "Q-8. The anxiety levels of 10 participants were measured before and after a new therapy.\n",
        "The scores are not normally distributed. Use the Wilcoxon signed-rank test to test whether\n",
        "the therapy had a significant effect on anxiety levels. The data is given below: Participant\n",
        "Before therapy After therapy Difference\n"
      ],
      "metadata": {
        "id": "EJBpZPcjrCLT"
      }
    },
    {
      "cell_type": "code",
      "source": [
        "df = pd.read_csv(\"parti.csv\")"
      ],
      "metadata": {
        "id": "IFl7ODe0w2uG"
      },
      "execution_count": 37,
      "outputs": []
    },
    {
      "cell_type": "code",
      "source": [
        "import pandas as pd\n",
        "from scipy.stats import wilcoxon\n",
        "\n",
        "# Read the data from the provided file\n",
        "df = pd.read_csv(\"parti.csv\")\n",
        "\n",
        "# Perform the Wilcoxon signed-rank test\n",
        "statistic, p_value = wilcoxon(df['Before therapy'], df['After therapy'])\n",
        "\n",
        "# Print the test statistic and p-value\n",
        "print(\"Test Statistic:\", statistic)\n",
        "print(\"p-value:\", p_value)\n"
      ],
      "metadata": {
        "colab": {
          "base_uri": "https://localhost:8080/"
        },
        "id": "D5tSTGKbrr7E",
        "outputId": "062edf16-4ed5-49ca-9e21-a0b92b458852"
      },
      "execution_count": 38,
      "outputs": [
        {
          "output_type": "stream",
          "name": "stdout",
          "text": [
            "Test Statistic: 0.0\n",
            "p-value: 0.001953125\n"
          ]
        }
      ]
    },
    {
      "cell_type": "markdown",
      "source": [
        "Q-9. Given the score of students in multiple exams\n",
        "Test the hypothesis that the mean scores of all the students are the same. If not, name the\n",
        "student with the highest score."
      ],
      "metadata": {
        "id": "UiDkkYb0xosN"
      }
    },
    {
      "cell_type": "code",
      "source": [
        "import pandas as pd\n",
        "from scipy.stats import f_oneway\n",
        "\n",
        "# Read the data from the provided file\n",
        "df = pd.read_csv(\"student.csv\")\n",
        "\n",
        "# Print the column names\n",
        "print(df.columns)\n",
        "\n",
        "# Perform one-way ANOVA test\n",
        "result = f_oneway(df['Exam 1'], df['Exam 2'],)\n",
        "\n",
        "# Check if the p-value is less than the significance level (e.g., 0.05)\n",
        "alpha = 0.05\n",
        "if result.pvalue < alpha:\n",
        "    print(\"The mean scores of all the students are not the same.\")\n",
        "else:\n",
        "    print(\"The mean scores of all the students are the same.\")"
      ],
      "metadata": {
        "colab": {
          "base_uri": "https://localhost:8080/"
        },
        "id": "_7muIwsKy6xO",
        "outputId": "26e5ccb7-0588-4ff2-efd2-20a58940a2ee"
      },
      "execution_count": 46,
      "outputs": [
        {
          "output_type": "stream",
          "name": "stdout",
          "text": [
            "Index(['Name', 'Exam 1', 'Exam 2', 'Final Exam'], dtype='object')\n",
            "The mean scores of all the students are the same.\n"
          ]
        }
      ]
    },
    {
      "cell_type": "markdown",
      "source": [
        "Q-10. A factory produces light bulbs, and the probability of a bulb being defective is 0.05.\n",
        "The factory produces a large batch of 500 light bulbs.\n",
        "a. What is the probability that exactly 20 bulbs are defective?\n",
        "b. What is the probability that at least 10 bulbs are defective?\n",
        "c. What is the probability that at max 15 bulbs are defective?\n",
        "d. On average, how many defective bulbs would you expect in a batch of 500?"
      ],
      "metadata": {
        "id": "GVMyeyfEs4cc"
      }
    },
    {
      "cell_type": "code",
      "source": [
        "import math\n",
        "\n",
        "def binomial_probability(n, k, p):\n",
        "    \"\"\"\n",
        "    Calculate the binomial probability of k successes in n trials with probability of success p.\n",
        "    \"\"\"\n",
        "    combination = math.comb(n, k)\n",
        "    probability = combination * (p ** k) * ((1 - p) ** (n - k))\n",
        "    return probability\n",
        "\n",
        "def expected_value(n, p):\n",
        "    \"\"\"\n",
        "    Calculate the expected value of the number of successes in n trials with probability of success p.\n",
        "    \"\"\"\n",
        "    expected = n * p\n",
        "    return expected\n",
        "\n",
        "# Probability that exactly 20 bulbs are defective\n",
        "n = 500  # Number of trials\n",
        "k = 20  # Number of successes\n",
        "p = 0.05  # Probability of success (defective bulb)\n",
        "probability_20_defective = binomial_probability(n, k, p)\n",
        "print(\"Probability that exactly 20 bulbs are defective:\", probability_20_defective)\n",
        "\n",
        "# Probability that at least 10 bulbs are defective\n",
        "probability_at_least_10_defective = sum(binomial_probability(n, i, p) for i in range(10, n+1))\n",
        "print(\"Probability that at least 10 bulbs are defective:\", probability_at_least_10_defective)\n",
        "\n",
        "# Probability that at most 15 bulbs are defective\n",
        "probability_at_most_15_defective = sum(binomial_probability(n, i, p) for i in range(16))\n",
        "print(\"Probability that at most 15 bulbs are defective:\", probability_at_most_15_defective)\n",
        "\n",
        "# Expected value of the number of defective bulbs\n",
        "expected_defective_bulbs = expected_value(n, p)\n",
        "print(\"Expected number of defective bulbs:\", expected_defective_bulbs)\n"
      ],
      "metadata": {
        "colab": {
          "base_uri": "https://localhost:8080/"
        },
        "id": "uOdWEEoAs3uj",
        "outputId": "010c7a9d-3785-4fec-f53b-7f44df59ac5f"
      },
      "execution_count": 25,
      "outputs": [
        {
          "output_type": "stream",
          "name": "stdout",
          "text": [
            "Probability that exactly 20 bulbs are defective: 0.05161619253663997\n",
            "Probability that at least 10 bulbs are defective: 0.9998316463654692\n",
            "Probability that at most 15 bulbs are defective: 0.019858377163006223\n",
            "Expected number of defective bulbs: 25.0\n"
          ]
        }
      ]
    },
    {
      "cell_type": "markdown",
      "source": [
        "Q-11. Given the data of a feature contributing to different classes\n",
        "\n",
        "https://drive.google.com/file/d/1mCjtYHiX--mMUjicuaP2gH3k-SnFxt8Y/view?usp\n",
        "=share_\n",
        "\n",
        "a. Check whether the distribution of all the classes are the same or not.\n",
        "b. Check for the equality of variance/\n",
        "c. Which amount LDA and QDA would perform better on this data for\n",
        "classification and why.\n",
        "d. Check the equality of mean for between all the classes."
      ],
      "metadata": {
        "id": "-z5IUh5MtNp0"
      }
    },
    {
      "cell_type": "code",
      "source": [
        "import pandas as pd\n",
        "import scipy.stats as stats\n",
        "\n",
        "# Read the data from the provided file\n",
        "df = pd.read_csv('/content/data (2).csv')\n",
        "\n",
        "# Check the column names in the dataset\n",
        "print(df.columns)\n",
        "\n",
        "# Perform one-way ANOVA test\n",
        "result = stats.f_oneway(df['Column1'], df['Column2'])\n",
        "\n",
        "# Check if the p-value is less than the significance level (e.g., 0.05)\n",
        "alpha = 0.05\n",
        "if result.pvalue < alpha:\n",
        "    print(\"The distribution of classes is not the same.\")\n",
        "else:\n",
        "    print(\"The distribution of classes is the same.\")\n"
      ],
      "metadata": {
        "colab": {
          "base_uri": "https://localhost:8080/",
          "height": 553
        },
        "id": "FM-vtJrE0764",
        "outputId": "7383e051-ad8f-4a68-b047-83620b871f69"
      },
      "execution_count": 58,
      "outputs": [
        {
          "output_type": "stream",
          "name": "stdout",
          "text": [
            "Index(['Patient ID', ' Blood Pressure Before (mmHg)',\n",
            "       ' Blood Pressure After (mmHg)'],\n",
            "      dtype='object')\n"
          ]
        },
        {
          "output_type": "error",
          "ename": "KeyError",
          "evalue": "ignored",
          "traceback": [
            "\u001b[0;31m---------------------------------------------------------------------------\u001b[0m",
            "\u001b[0;31mKeyError\u001b[0m                                  Traceback (most recent call last)",
            "\u001b[0;32m/usr/local/lib/python3.10/dist-packages/pandas/core/indexes/base.py\u001b[0m in \u001b[0;36mget_loc\u001b[0;34m(self, key, method, tolerance)\u001b[0m\n\u001b[1;32m   3801\u001b[0m             \u001b[0;32mtry\u001b[0m\u001b[0;34m:\u001b[0m\u001b[0;34m\u001b[0m\u001b[0;34m\u001b[0m\u001b[0m\n\u001b[0;32m-> 3802\u001b[0;31m                 \u001b[0;32mreturn\u001b[0m \u001b[0mself\u001b[0m\u001b[0;34m.\u001b[0m\u001b[0m_engine\u001b[0m\u001b[0;34m.\u001b[0m\u001b[0mget_loc\u001b[0m\u001b[0;34m(\u001b[0m\u001b[0mcasted_key\u001b[0m\u001b[0;34m)\u001b[0m\u001b[0;34m\u001b[0m\u001b[0;34m\u001b[0m\u001b[0m\n\u001b[0m\u001b[1;32m   3803\u001b[0m             \u001b[0;32mexcept\u001b[0m \u001b[0mKeyError\u001b[0m \u001b[0;32mas\u001b[0m \u001b[0merr\u001b[0m\u001b[0;34m:\u001b[0m\u001b[0;34m\u001b[0m\u001b[0;34m\u001b[0m\u001b[0m\n",
            "\u001b[0;32m/usr/local/lib/python3.10/dist-packages/pandas/_libs/index.pyx\u001b[0m in \u001b[0;36mpandas._libs.index.IndexEngine.get_loc\u001b[0;34m()\u001b[0m\n",
            "\u001b[0;32m/usr/local/lib/python3.10/dist-packages/pandas/_libs/index.pyx\u001b[0m in \u001b[0;36mpandas._libs.index.IndexEngine.get_loc\u001b[0;34m()\u001b[0m\n",
            "\u001b[0;32mpandas/_libs/hashtable_class_helper.pxi\u001b[0m in \u001b[0;36mpandas._libs.hashtable.PyObjectHashTable.get_item\u001b[0;34m()\u001b[0m\n",
            "\u001b[0;32mpandas/_libs/hashtable_class_helper.pxi\u001b[0m in \u001b[0;36mpandas._libs.hashtable.PyObjectHashTable.get_item\u001b[0;34m()\u001b[0m\n",
            "\u001b[0;31mKeyError\u001b[0m: 'Column1'",
            "\nThe above exception was the direct cause of the following exception:\n",
            "\u001b[0;31mKeyError\u001b[0m                                  Traceback (most recent call last)",
            "\u001b[0;32m<ipython-input-58-81cda26c8e33>\u001b[0m in \u001b[0;36m<cell line: 11>\u001b[0;34m()\u001b[0m\n\u001b[1;32m      9\u001b[0m \u001b[0;34m\u001b[0m\u001b[0m\n\u001b[1;32m     10\u001b[0m \u001b[0;31m# Perform one-way ANOVA test\u001b[0m\u001b[0;34m\u001b[0m\u001b[0;34m\u001b[0m\u001b[0m\n\u001b[0;32m---> 11\u001b[0;31m \u001b[0mresult\u001b[0m \u001b[0;34m=\u001b[0m \u001b[0mstats\u001b[0m\u001b[0;34m.\u001b[0m\u001b[0mf_oneway\u001b[0m\u001b[0;34m(\u001b[0m\u001b[0mdf\u001b[0m\u001b[0;34m[\u001b[0m\u001b[0;34m'Column1'\u001b[0m\u001b[0;34m]\u001b[0m\u001b[0;34m,\u001b[0m \u001b[0mdf\u001b[0m\u001b[0;34m[\u001b[0m\u001b[0;34m'Column2'\u001b[0m\u001b[0;34m]\u001b[0m\u001b[0;34m)\u001b[0m\u001b[0;34m\u001b[0m\u001b[0;34m\u001b[0m\u001b[0m\n\u001b[0m\u001b[1;32m     12\u001b[0m \u001b[0;34m\u001b[0m\u001b[0m\n\u001b[1;32m     13\u001b[0m \u001b[0;31m# Check if the p-value is less than the significance level (e.g., 0.05)\u001b[0m\u001b[0;34m\u001b[0m\u001b[0;34m\u001b[0m\u001b[0m\n",
            "\u001b[0;32m/usr/local/lib/python3.10/dist-packages/pandas/core/frame.py\u001b[0m in \u001b[0;36m__getitem__\u001b[0;34m(self, key)\u001b[0m\n\u001b[1;32m   3805\u001b[0m             \u001b[0;32mif\u001b[0m \u001b[0mself\u001b[0m\u001b[0;34m.\u001b[0m\u001b[0mcolumns\u001b[0m\u001b[0;34m.\u001b[0m\u001b[0mnlevels\u001b[0m \u001b[0;34m>\u001b[0m \u001b[0;36m1\u001b[0m\u001b[0;34m:\u001b[0m\u001b[0;34m\u001b[0m\u001b[0;34m\u001b[0m\u001b[0m\n\u001b[1;32m   3806\u001b[0m                 \u001b[0;32mreturn\u001b[0m \u001b[0mself\u001b[0m\u001b[0;34m.\u001b[0m\u001b[0m_getitem_multilevel\u001b[0m\u001b[0;34m(\u001b[0m\u001b[0mkey\u001b[0m\u001b[0;34m)\u001b[0m\u001b[0;34m\u001b[0m\u001b[0;34m\u001b[0m\u001b[0m\n\u001b[0;32m-> 3807\u001b[0;31m             \u001b[0mindexer\u001b[0m \u001b[0;34m=\u001b[0m \u001b[0mself\u001b[0m\u001b[0;34m.\u001b[0m\u001b[0mcolumns\u001b[0m\u001b[0;34m.\u001b[0m\u001b[0mget_loc\u001b[0m\u001b[0;34m(\u001b[0m\u001b[0mkey\u001b[0m\u001b[0;34m)\u001b[0m\u001b[0;34m\u001b[0m\u001b[0;34m\u001b[0m\u001b[0m\n\u001b[0m\u001b[1;32m   3808\u001b[0m             \u001b[0;32mif\u001b[0m \u001b[0mis_integer\u001b[0m\u001b[0;34m(\u001b[0m\u001b[0mindexer\u001b[0m\u001b[0;34m)\u001b[0m\u001b[0;34m:\u001b[0m\u001b[0;34m\u001b[0m\u001b[0;34m\u001b[0m\u001b[0m\n\u001b[1;32m   3809\u001b[0m                 \u001b[0mindexer\u001b[0m \u001b[0;34m=\u001b[0m \u001b[0;34m[\u001b[0m\u001b[0mindexer\u001b[0m\u001b[0;34m]\u001b[0m\u001b[0;34m\u001b[0m\u001b[0;34m\u001b[0m\u001b[0m\n",
            "\u001b[0;32m/usr/local/lib/python3.10/dist-packages/pandas/core/indexes/base.py\u001b[0m in \u001b[0;36mget_loc\u001b[0;34m(self, key, method, tolerance)\u001b[0m\n\u001b[1;32m   3802\u001b[0m                 \u001b[0;32mreturn\u001b[0m \u001b[0mself\u001b[0m\u001b[0;34m.\u001b[0m\u001b[0m_engine\u001b[0m\u001b[0;34m.\u001b[0m\u001b[0mget_loc\u001b[0m\u001b[0;34m(\u001b[0m\u001b[0mcasted_key\u001b[0m\u001b[0;34m)\u001b[0m\u001b[0;34m\u001b[0m\u001b[0;34m\u001b[0m\u001b[0m\n\u001b[1;32m   3803\u001b[0m             \u001b[0;32mexcept\u001b[0m \u001b[0mKeyError\u001b[0m \u001b[0;32mas\u001b[0m \u001b[0merr\u001b[0m\u001b[0;34m:\u001b[0m\u001b[0;34m\u001b[0m\u001b[0;34m\u001b[0m\u001b[0m\n\u001b[0;32m-> 3804\u001b[0;31m                 \u001b[0;32mraise\u001b[0m \u001b[0mKeyError\u001b[0m\u001b[0;34m(\u001b[0m\u001b[0mkey\u001b[0m\u001b[0;34m)\u001b[0m \u001b[0;32mfrom\u001b[0m \u001b[0merr\u001b[0m\u001b[0;34m\u001b[0m\u001b[0;34m\u001b[0m\u001b[0m\n\u001b[0m\u001b[1;32m   3805\u001b[0m             \u001b[0;32mexcept\u001b[0m \u001b[0mTypeError\u001b[0m\u001b[0;34m:\u001b[0m\u001b[0;34m\u001b[0m\u001b[0;34m\u001b[0m\u001b[0m\n\u001b[1;32m   3806\u001b[0m                 \u001b[0;31m# If we have a listlike key, _check_indexing_error will raise\u001b[0m\u001b[0;34m\u001b[0m\u001b[0;34m\u001b[0m\u001b[0m\n",
            "\u001b[0;31mKeyError\u001b[0m: 'Column1'"
          ]
        }
      ]
    },
    {
      "cell_type": "markdown",
      "source": [
        "Q-12. A pharmaceutical company develops a new drug and wants to compare its\n",
        "effectiveness against a standard drug for treating a particular condition. They conduct a\n",
        "study with two groups: Group A receives the new drug, and Group B receives the standard\n",
        "drug. The company measures the improvement in a specific symptom for both groups after\n",
        "a 4-week treatment period.\n",
        "a. The company collects data from 30 patients in each group and calculates the\n",
        "mean improvement score and the standard deviation of improvement for each\n",
        "group. The mean improvement score for Group A is 2.5 with a standard\n",
        "deviation of 0.8, while the mean improvement score for Group B is 2.2 with a\n",
        "standard deviation of 0.6. Conduct a t-test to determine if there is a significant\n",
        "difference in the mean improvement scores between the two groups. Use a\n",
        "significance level of 0.05.\n",
        "b. Based on the t-test results, state whether the null hypothesis should be\n",
        "rejected or not. Provide a conclusion in the context of the study."
      ],
      "metadata": {
        "id": "tBotKup_tQ8G"
      }
    },
    {
      "cell_type": "code",
      "source": [
        "import scipy.stats as stats\n",
        "\n",
        "# Group A data\n",
        "mean_A = 2.5\n",
        "std_dev_A = 0.8\n",
        "n_A = 30\n",
        "\n",
        "# Group B data\n",
        "mean_B = 2.2\n",
        "std_dev_B = 0.6\n",
        "n_B = 30\n",
        "\n",
        "# Calculate the t-score and p-value\n",
        "t_score, p_value = stats.ttest_ind_from_stats(mean_A, std_dev_A, n_A, mean_B, std_dev_B, n_B)\n",
        "\n",
        "# Compare the p-value with the significance level\n",
        "alpha = 0.05\n",
        "if p_value < alpha:\n",
        "    print(\"There is a significant difference in mean improvement scores between the two groups.\")\n",
        "    print(\"Null hypothesis rejected.\")\n",
        "else:\n",
        "    print(\"There is no significant difference in mean improvement scores between the two groups.\")\n",
        "    print(\"Null hypothesis cannot be rejected.\")\n"
      ],
      "metadata": {
        "colab": {
          "base_uri": "https://localhost:8080/"
        },
        "id": "uKt8YVTAtRdu",
        "outputId": "8c7ba7ef-b936-4fa0-ad09-6c19add635b8"
      },
      "execution_count": 26,
      "outputs": [
        {
          "output_type": "stream",
          "name": "stdout",
          "text": [
            "There is no significant difference in mean improvement scores between the two groups.\n",
            "Null hypothesis cannot be rejected.\n"
          ]
        }
      ]
    },
    {
      "cell_type": "code",
      "source": [],
      "metadata": {
        "id": "73REX3Se0Puo"
      },
      "execution_count": null,
      "outputs": []
    }
  ]
}